{
 "cells": [
  {
   "cell_type": "code",
   "execution_count": 1,
   "id": "edcb6a09",
   "metadata": {},
   "outputs": [
    {
     "name": "stdout",
     "output_type": "stream",
     "text": [
      "入力した英単語：['apple', 'chair', 'orrange']\n",
      "aが3個ありました\n",
      "cが1個ありました\n",
      "eが2個ありました\n",
      "gが1個ありました\n",
      "hが1個ありました\n",
      "iが1個ありました\n",
      "lが1個ありました\n",
      "nが1個ありました\n",
      "oが1個ありました\n",
      "pが2個ありました\n",
      "rが3個ありました\n"
     ]
    }
   ],
   "source": [
    "# 最初に空のリストを作成\n",
    "words_list = []\n",
    "\n",
    "# 文字数カウント用の辞書を作成\n",
    "letter_count = {chr(i): 0 for i in range(97, 123)}  # 'a'から'z'までの辞書を作成\n",
    "\n",
    "# 英単語を入力してもらう\n",
    "while True:\n",
    "    word = input(\"英単語を入力してください：\")\n",
    "    if not word:\n",
    "        break  \n",
    "    words_list.append(word) \n",
    "\n",
    "    for letter in word:\n",
    "        if letter in letter_count:\n",
    "            letter_count[letter] += 1\n",
    "\n",
    "# 入力した英単語をABC順に並べ替えて表示\n",
    "words_list.sort()\n",
    "print(f\"入力した英単語：{words_list}\")\n",
    "\n",
    "# 辞書のカウントを表示（1回以上出現した文字のみ表示）\n",
    "for letter, count in letter_count.items():\n",
    "    if count > 0:\n",
    "        print(f\"{letter}が{count}個ありました\")"
   ]
  }
 ],
 "metadata": {
  "kernelspec": {
   "display_name": ".venv",
   "language": "python",
   "name": "python3"
  },
  "language_info": {
   "codemirror_mode": {
    "name": "ipython",
    "version": 3
   },
   "file_extension": ".py",
   "mimetype": "text/x-python",
   "name": "python",
   "nbconvert_exporter": "python",
   "pygments_lexer": "ipython3",
   "version": "3.12.11"
  }
 },
 "nbformat": 4,
 "nbformat_minor": 5
}
