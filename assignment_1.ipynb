{
 "cells": [
  {
   "cell_type": "code",
   "execution_count": null,
   "id": "2f8cb364",
   "metadata": {},
   "outputs": [
    {
     "name": "stdout",
     "output_type": "stream",
     "text": [
      "私の名前は kaishi です。来年で 30 歳になります。\n"
     ]
    }
   ],
   "source": [
    "# 命令1：名前を入力\n",
    "name = input(\"名前を入力してください：\")\n",
    "\n",
    "# 命令2：年齢を入力\n",
    "age_input = input(\"現在の年齢を入力してください：\")\n",
    "age = int(age_input)  # 年齢は整数に変換\n",
    "\n",
    "# 命令3：結果を表示\n",
    "print(f\"私の名前は {name} です。来年で {age + 1} 歳になります。\")\n",
    "\n"
   ]
  }
 ],
 "metadata": {
  "kernelspec": {
   "display_name": "Python 3",
   "language": "python",
   "name": "python3"
  },
  "language_info": {
   "codemirror_mode": {
    "name": "ipython",
    "version": 3
   },
   "file_extension": ".py",
   "mimetype": "text/x-python",
   "name": "python",
   "nbconvert_exporter": "python",
   "pygments_lexer": "ipython3",
   "version": "3.9.6"
  }
 },
 "nbformat": 4,
 "nbformat_minor": 5
}
