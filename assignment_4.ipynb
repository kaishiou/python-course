{
 "cells": [
  {
   "cell_type": "code",
   "execution_count": null,
   "id": "845f81f0",
   "metadata": {},
   "outputs": [],
   "source": [
    "# 1から100までの整数をリストとして用意（インデックスを使いやすくするため、0と1は除外）\n",
    "numbers = list(range(2, 101))\n",
    "\n",
    "# 素数を保存するリスト\n",
    "primes = []\n",
    "\n",
    "# 2以上の数でふるいをかける（エラトステネスのふるい）\n",
    "for num in numbers:\n",
    "    # まだリストに残っていれば素数とみなす\n",
    "    primes.append(num)\n",
    "    # num の倍数をすべてリストから削除（ただし、自分自身は除く）\n",
    "    numbers = [n for n in numbers if n == num or n % num != 0]\n",
    "\n",
    "# 素数を1つずつ表示\n",
    "for p in primes:\n",
    "    print(p)\n"
   ]
  }
 ],
 "metadata": {
  "language_info": {
   "name": "python"
  }
 },
 "nbformat": 4,
 "nbformat_minor": 5
}
