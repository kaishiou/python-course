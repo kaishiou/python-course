{
 "cells": [
  {
   "cell_type": "code",
   "execution_count": 1,
   "id": "845f81f0",
   "metadata": {},
   "outputs": [
    {
     "name": "stdout",
     "output_type": "stream",
     "text": [
      "2\n",
      "3\n",
      "5\n",
      "7\n",
      "11\n",
      "13\n",
      "17\n",
      "19\n",
      "23\n",
      "29\n",
      "31\n",
      "37\n",
      "41\n",
      "43\n",
      "47\n",
      "53\n",
      "59\n",
      "61\n",
      "67\n",
      "71\n",
      "73\n",
      "79\n",
      "83\n",
      "89\n",
      "97\n"
     ]
    }
   ],
   "source": [
    "# 1から100までの整数リストを作成（1も含める）\n",
    "numbers = list(range(1, 101))\n",
    "\n",
    "# 素数を保存するリスト\n",
    "primes = []\n",
    "\n",
    "# エラトステネスのふるい\n",
    "for num in range(1, 101):  # 1から100まで\n",
    "    # numが素数かどうか判定（1は素数ではない）\n",
    "    if num > 1 and num in numbers:\n",
    "        primes.append(num)\n",
    "        # numの倍数をnumbersから削除\n",
    "        numbers = [n for n in numbers if n == num or n % num != 0]\n",
    "\n",
    "# 素数を1つずつ表示\n",
    "for p in primes:\n",
    "    print(p)"
   ]
  }
 ],
 "metadata": {
  "kernelspec": {
   "display_name": ".venv",
   "language": "python",
   "name": "python3"
  },
  "language_info": {
   "codemirror_mode": {
    "name": "ipython",
    "version": 3
   },
   "file_extension": ".py",
   "mimetype": "text/x-python",
   "name": "python",
   "nbconvert_exporter": "python",
   "pygments_lexer": "ipython3",
   "version": "3.12.11"
  }
 },
 "nbformat": 4,
 "nbformat_minor": 5
}
