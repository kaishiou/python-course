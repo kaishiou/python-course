{
 "cells": [
  {
   "cell_type": "code",
   "execution_count": 7,
   "id": "845f81f0",
   "metadata": {},
   "outputs": [
    {
     "name": "stdout",
     "output_type": "stream",
     "text": [
      "2\n",
      "3\n",
      "5\n",
      "7\n",
      "11\n",
      "13\n",
      "17\n",
      "19\n",
      "23\n",
      "29\n",
      "31\n",
      "37\n",
      "41\n",
      "43\n",
      "47\n",
      "53\n",
      "59\n",
      "61\n",
      "67\n",
      "71\n",
      "73\n",
      "79\n",
      "83\n",
      "89\n",
      "97\n"
     ]
    }
   ],
   "source": [
    "# 1から100までの整数リストを作成（1は素数ではないので除外）\n",
    "numbers = list(range(2, 101))\n",
    "\n",
    "# 素数を保存するリスト\n",
    "primes = []\n",
    "\n",
    "# エラトステネスのふるい（for rangeを使用）\n",
    "for num in range(2, 101):\n",
    "    # num が素数でない場合はスキップ\n",
    "    if num not in numbers:\n",
    "        continue\n",
    "    \n",
    "    # num を素数として primes に追加\n",
    "    primes.append(num)\n",
    "\n",
    "    # num の倍数を numbers リストから削除\n",
    "    for multiple in range(num * 2, 101, num):\n",
    "        if multiple in numbers:\n",
    "            numbers.remove(multiple)\n",
    "\n",
    "\n",
    "# 素数を1つずつ表示\n",
    "for p in primes:\n",
    "    print(p)"
   ]
  }
 ],
 "metadata": {
  "kernelspec": {
   "display_name": ".venv",
   "language": "python",
   "name": "python3"
  },
  "language_info": {
   "codemirror_mode": {
    "name": "ipython",
    "version": 3
   },
   "file_extension": ".py",
   "mimetype": "text/x-python",
   "name": "python",
   "nbconvert_exporter": "python",
   "pygments_lexer": "ipython3",
   "version": "3.12.11"
  }
 },
 "nbformat": 4,
 "nbformat_minor": 5
}
