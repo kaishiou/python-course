{
 "cells": [
  {
   "cell_type": "code",
   "execution_count": 6,
   "id": "bf4d53f7",
   "metadata": {},
   "outputs": [
    {
     "name": "stdout",
     "output_type": "stream",
     "text": [
      "送料として350円かかります\n",
      "送料込みの価格は2330円です。\n"
     ]
    }
   ],
   "source": [
    "# 税抜価格の入力を受け付ける\n",
    "price_input = input(\"税抜価格を入力してください：\")\n",
    "price = int(price_input)\n",
    "\n",
    "# 税込価格（消費税10%）を計算する（小数点以下は四捨五入）\n",
    "tax_included = round(price * 1.1)\n",
    "\n",
    "# 税込価格に応じて送料を判断し、最終価格を計算する\n",
    "if tax_included >= 2000:\n",
    "    print(\"送料は無料です\")\n",
    "    total_price = tax_included\n",
    "else:\n",
    "    print(\"送料として350円かかります\")\n",
    "    total_price = tax_included + 350\n",
    "\n",
    "# 送料込みの最終価格を表示する\n",
    "print(f\"送料込みの価格は{total_price}円です。\")"
   ]
  }
 ],
 "metadata": {
  "kernelspec": {
   "display_name": "Python 3",
   "language": "python",
   "name": "python3"
  },
  "language_info": {
   "codemirror_mode": {
    "name": "ipython",
    "version": 3
   },
   "file_extension": ".py",
   "mimetype": "text/x-python",
   "name": "python",
   "nbconvert_exporter": "python",
   "pygments_lexer": "ipython3",
   "version": "3.9.6"
  }
 },
 "nbformat": 4,
 "nbformat_minor": 5
}
