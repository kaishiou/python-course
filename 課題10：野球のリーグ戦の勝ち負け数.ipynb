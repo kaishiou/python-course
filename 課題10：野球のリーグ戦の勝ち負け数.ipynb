{
 "cells": [
  {
   "cell_type": "code",
   "execution_count": 1,
   "id": "736a902c",
   "metadata": {},
   "outputs": [
    {
     "name": "stdout",
     "output_type": "stream",
     "text": [
      "team       win lose draw rate\n",
      "Archers    77  64  2   0.546\n",
      "Meteors    71  69  3   0.507\n",
      "Cheetahs   69  68  6   0.504\n",
      "Sharks     70  70  3   0.500\n",
      "Pythons    68  73  2   0.482\n",
      "Owls       59  82  2   0.418\n"
     ]
    }
   ],
   "source": [
    "# Baseball_Team クラスの定義\n",
    "class Baseball_Team:\n",
    "    def __init__(self, name, win, lose, draw):\n",
    "        self.name = name\n",
    "        self.win = win\n",
    "        self.lose = lose\n",
    "        self.draw = draw\n",
    "\n",
    "    def calc_win_rate(self):\n",
    "        # 勝率を計算して返す\n",
    "        return self.win / (self.win + self.lose)\n",
    "\n",
    "    def show_team_result(self):\n",
    "        # チームの結果を整形して表示\n",
    "        win_rate = self.calc_win_rate()\n",
    "        print(f\"{self.name:<10} {self.win:<3} {self.lose:<3} {self.draw:<3} {win_rate:.3f}\")\n",
    "\n",
    "# インスタンスを作成して、各チームの情報を表示\n",
    "team1 = Baseball_Team(\"Archers\", 77, 64, 2)\n",
    "team2 = Baseball_Team(\"Meteors\", 71, 69, 3)\n",
    "team3 = Baseball_Team(\"Cheetahs\", 69, 68, 6)\n",
    "team4 = Baseball_Team(\"Sharks\", 70, 70, 3)\n",
    "team5 = Baseball_Team(\"Pythons\", 68, 73, 2)\n",
    "team6 = Baseball_Team(\"Owls\", 59, 82, 2)\n",
    "\n",
    "# 表のヘッダーを表示\n",
    "print(f\"{'team':<10} {'win':<3} {'lose':<3} {'draw':<3} {'rate'}\")\n",
    "\n",
    "# 各チームの結果を表示\n",
    "team1.show_team_result()\n",
    "team2.show_team_result()\n",
    "team3.show_team_result()\n",
    "team4.show_team_result()\n",
    "team5.show_team_result()\n",
    "team6.show_team_result()"
   ]
  }
 ],
 "metadata": {
  "kernelspec": {
   "display_name": ".venv",
   "language": "python",
   "name": "python3"
  },
  "language_info": {
   "codemirror_mode": {
    "name": "ipython",
    "version": 3
   },
   "file_extension": ".py",
   "mimetype": "text/x-python",
   "name": "python",
   "nbconvert_exporter": "python",
   "pygments_lexer": "ipython3",
   "version": "3.12.11"
  }
 },
 "nbformat": 4,
 "nbformat_minor": 5
}
