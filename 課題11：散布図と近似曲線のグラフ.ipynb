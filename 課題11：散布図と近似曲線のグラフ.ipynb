{
 "cells": [
  {
   "cell_type": "code",
   "execution_count": null,
   "id": "dc09c568",
   "metadata": {},
   "outputs": [],
   "source": [
    "# 課題 11: 散布図と近似曲線のグラフ\n",
    "import numpy as np\n",
    "import matplotlib.pyplot as plt\n",
    "\n",
    "# データの準備\n",
    "x = np.array([62, 95, 83, 100, 72, 71, 55, 85, 67, 75])   # 英語の点数\n",
    "y = np.array([62, 80, 85, 95, 58, 76, 52, 84, 67, 71])    # 数学の点数\n",
    "\n",
    "# 散布図を描く\n",
    "plt.scatter(x, y, color='blue', label='score')\n",
    "\n",
    "# 最小二乗法（LSM）を使って近似直線を計算\n",
    "m, b = np.polyfit(x, y, 1)  # 1次の近似（直線）\n",
    "\n",
    "# 近似直線を描く\n",
    "plt.plot(x, m * x + b, color='red', label='lsm')\n",
    "\n",
    "# 軸ラベルの設定\n",
    "plt.xlabel('english')  # 横軸ラベル：英語\n",
    "plt.ylabel('math')     # 縦軸ラベル：数学\n",
    "\n",
    "# 凡例を表示（左上に表示）\n",
    "plt.legend(loc='upper left')\n",
    "\n",
    "# グラフを表示\n",
    "plt.show()\n"
   ]
  }
 ],
 "metadata": {
  "language_info": {
   "name": "python"
  }
 },
 "nbformat": 4,
 "nbformat_minor": 5
}
