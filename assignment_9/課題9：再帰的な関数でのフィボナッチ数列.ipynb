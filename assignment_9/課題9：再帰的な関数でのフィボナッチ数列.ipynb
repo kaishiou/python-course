{
 "cells": [
  {
   "cell_type": "code",
   "execution_count": 6,
   "id": "6764dc68",
   "metadata": {},
   "outputs": [
    {
     "name": "stdout",
     "output_type": "stream",
     "text": [
      "55\n"
     ]
    }
   ],
   "source": [
    "# 課題9：再帰的な関数でのフィボナッチ数列.ipynb\n",
    "\n",
    "# prognum.pyからfibonacci関数をインポート\n",
    "from prognum import fibonacci\n",
    "\n",
    "# ユーザーから何番目の数値を求めたいか入力を受け付け\n",
    "n = int(input(\"何番目の数値を求めますか？：\"))\n",
    "\n",
    "# fibonacci関数を使って結果を計算\n",
    "result = fibonacci(n)\n",
    "\n",
    "# 結果を表示\n",
    "print(result)"
   ]
  }
 ],
 "metadata": {
  "kernelspec": {
   "display_name": ".venv",
   "language": "python",
   "name": "python3"
  },
  "language_info": {
   "codemirror_mode": {
    "name": "ipython",
    "version": 3
   },
   "file_extension": ".py",
   "mimetype": "text/x-python",
   "name": "python",
   "nbconvert_exporter": "python",
   "pygments_lexer": "ipython3",
   "version": "3.12.11"
  }
 },
 "nbformat": 4,
 "nbformat_minor": 5
}
