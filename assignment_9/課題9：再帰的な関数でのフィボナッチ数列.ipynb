{
 "cells": [
  {
   "cell_type": "code",
   "execution_count": null,
   "id": "6764dc68",
   "metadata": {},
   "outputs": [],
   "source": [
    "# 課題9：再帰的な関数でのフィボナッチ数列.ipynb\n",
    "\n",
    "# prognum.pyからfibonacci関数をインポート\n",
    "from prognum import fibonacci\n",
    "\n",
    "# ユーザーから何番目の数値を求めたいか入力を受け付け\n",
    "n = int(input(\"何番目の数値を求めますか？：\"))\n",
    "\n",
    "# fibonacci関数を使って結果を計算\n",
    "result = fibonacci(n)\n",
    "\n",
    "# 結果を表示\n",
    "print(result)"
   ]
  }
 ],
 "metadata": {
  "language_info": {
   "name": "python"
  }
 },
 "nbformat": 4,
 "nbformat_minor": 5
}
