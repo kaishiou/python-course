{
 "cells": [
  {
   "cell_type": "code",
   "execution_count": 2,
   "id": "52c32b00",
   "metadata": {},
   "outputs": [
    {
     "name": "stdout",
     "output_type": "stream",
     "text": [
      "10 ÷ 2 = 5.0\n",
      "処理を終了します\n"
     ]
    }
   ],
   "source": [
    "try:\n",
    "    # 割られる数の入力を受け付け\n",
    "    a = int(input(\"割られる数を入力してください：\"))\n",
    "    \n",
    "    # 割る数の入力を受け付け\n",
    "    b = int(input(\"割る数を入力してください：\"))\n",
    "\n",
    "    # ゼロで割り算を行う場合はエラーを発生させる\n",
    "    if b == 0:\n",
    "        raise ZeroDivisionError(\"エラー：0で割り算しないでください\")\n",
    "\n",
    "    # 割り算を行う\n",
    "    c = a / b\n",
    "    \n",
    "    # 結果を出力\n",
    "    print(f\"{a} ÷ {b} = {c}\")\n",
    "\n",
    "# ゼロ除算のエラーハンドリング\n",
    "except ZeroDivisionError as e:\n",
    "    # ゼロ除算エラーのメッセージを表示\n",
    "    print(e)\n",
    "\n",
    "# 数値以外が入力された場合のエラーハンドリング\n",
    "except ValueError:\n",
    "    # 数値入力が求められる場合のエラーメッセージ\n",
    "    print(\"エラー：数値を入力してください\")\n",
    "\n",
    "# 最後に処理終了メッセージを表示\n",
    "print(\"処理を終了します\")\n"
   ]
  }
 ],
 "metadata": {
  "kernelspec": {
   "display_name": ".venv",
   "language": "python",
   "name": "python3"
  },
  "language_info": {
   "codemirror_mode": {
    "name": "ipython",
    "version": 3
   },
   "file_extension": ".py",
   "mimetype": "text/x-python",
   "name": "python",
   "nbconvert_exporter": "python",
   "pygments_lexer": "ipython3",
   "version": "3.12.11"
  }
 },
 "nbformat": 4,
 "nbformat_minor": 5
}
