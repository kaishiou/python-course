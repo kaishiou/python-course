{
 "cells": [
  {
   "cell_type": "code",
   "execution_count": null,
   "id": "e0236775",
   "metadata": {},
   "outputs": [],
   "source": [
    "# 合計点を記録する変数を初期化\n",
    "total_score = 0\n",
    "\n",
    "# 人数（カウント）を記録する変数を初期化\n",
    "count = 0\n",
    "\n",
    "# 無限ループを開始\n",
    "while True:\n",
    "    # 点数の入力を受け付け\n",
    "    score_input = input(\"点数を入力してください：\")\n",
    "    score = int(score_input)\n",
    "\n",
    "    # -1 が入力されたらループを終了\n",
    "    if score == -1:\n",
    "        break\n",
    "\n",
    "    # 合計点に加算\n",
    "    total_score += score\n",
    "\n",
    "    # 人数カウンターを1増やす\n",
    "    count += 1\n",
    "\n",
    "# 平均点を計算（人数が0でない場合のみ）\n",
    "if count > 0:\n",
    "    average = round(total_score / count, 1)  # 小数第2位で四捨五入し、小数第1位まで表示\n",
    "    print(f\"{count}人のテストの平均点は{average}点です\")\n",
    "else:\n",
    "    print(\"点数が入力されていません。\")"
   ]
  }
 ],
 "metadata": {
  "kernelspec": {
   "display_name": ".venv",
   "language": "python",
   "name": "python3"
  },
  "language_info": {
   "codemirror_mode": {
    "name": "ipython",
    "version": 3
   },
   "file_extension": ".py",
   "mimetype": "text/x-python",
   "name": "python",
   "nbconvert_exporter": "python",
   "pygments_lexer": "ipython3",
   "version": "3.12.11"
  }
 },
 "nbformat": 4,
 "nbformat_minor": 5
}
